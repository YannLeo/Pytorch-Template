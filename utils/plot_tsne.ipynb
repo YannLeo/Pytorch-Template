{
 "cells": [
  {
   "cell_type": "code",
   "execution_count": 45,
   "metadata": {},
   "outputs": [],
   "source": [
    "import matplotlib.pyplot as plt\n",
    "import numpy as np\n",
    "import torch\n",
    "import toml\n",
    "import os\n",
    "import sys\n",
    "sys.path.append(\"../\")\n",
    "\n",
    "import models\n",
    "import datasets\n",
    "\n",
    "%matplotlib inline\n"
   ]
  },
  {
   "cell_type": "code",
   "execution_count": 46,
   "metadata": {},
   "outputs": [],
   "source": [
    "config = r'../saved/147319_m1/2022-12-11-12-50-40/log/147319.toml'  # Just modify this path!\n",
    "with open(config, 'r', encoding='utf8') as f:\n",
    "    info = toml.load(f)\n",
    " "
   ]
  },
  {
   "cell_type": "code",
   "execution_count": 47,
   "metadata": {},
   "outputs": [
    {
     "data": {
      "text/plain": [
       "'../saved/147319_m1/2022-12-11-12-50-40/model/model_best.pth'"
      ]
     },
     "execution_count": 47,
     "metadata": {},
     "output_type": "execute_result"
    }
   ],
   "source": [
    "       \n",
    "model_path = f\"../saved/{info['name']}/\"\n",
    "model_path = model_path + sorted(os.listdir(model_path))[-1] + \"/model/model_best.pth\"\n",
    "model_path\n",
    "    "
   ]
  },
  {
   "cell_type": "code",
   "execution_count": 48,
   "metadata": {},
   "outputs": [
    {
     "name": "stdout",
     "output_type": "stream",
     "text": [
      "Successfully loaded dataset on Rx of ['14-7'], with shape of torch.Size([4800, 2, 256]), torch.Size([4800])\n",
      "Successfully loaded dataset on Rx of ['3-19'], with shape of torch.Size([4800, 2, 256]), torch.Size([4800])\n"
     ]
    }
   ],
   "source": [
    "def get_object(module, s: str, parameter: dict):\n",
    "        return getattr(module, s)(**parameter)\n",
    "    \n",
    "# on src domain\n",
    "dataset_valid = get_object(datasets, info['dataloader_valid']['dataset']['name'], \n",
    "                           info['dataloader_valid']['dataset']['args'])\n",
    "dataloader_valid = torch.utils.data.DataLoader(dataset=dataset_valid, **info['dataloader_valid']['args'])\n",
    "# on tgt domain\n",
    "dataset_test = get_object(datasets, info['dataloader_test']['dataset']['name'], \n",
    "                          info['dataloader_test']['dataset']['args'])\n",
    "dataloader_test = torch.utils.data.DataLoader(dataset=dataset_test, **info['dataloader_test']['args'])"
   ]
  },
  {
   "cell_type": "code",
   "execution_count": 49,
   "metadata": {},
   "outputs": [],
   "source": [
    "checkpoint = torch.load(model_path)\n",
    "state_dict = checkpoint['state_dict']"
   ]
  },
  {
   "cell_type": "code",
   "execution_count": 50,
   "metadata": {},
   "outputs": [],
   "source": [
    "model_resumed = get_object(models, info['model']['name'], info['model']['args'])\n",
    "model_resumed.load_state_dict(state_dict)\n",
    "model_resumed = model_resumed.cuda()"
   ]
  },
  {
   "cell_type": "code",
   "execution_count": 51,
   "metadata": {},
   "outputs": [],
   "source": [
    "loader1 = dataloader_valid\n",
    "loader2 = dataloader_test\n"
   ]
  },
  {
   "cell_type": "code",
   "execution_count": 52,
   "metadata": {},
   "outputs": [],
   "source": [
    "def plot_scatters(data, labels, mode=\"label_clusters\", fig_name=\"fig\"):\n",
    "    \"\"\"\n",
    "    colormaps: https://matplotlib.org/stable/tutorials/colors/colormaps.html\n",
    "    \"\"\"\n",
    "    fig, ax = plt.subplots(figsize=(8, 7))\n",
    "    if mode == \"label_clusters\":\n",
    "        # viridis, tab10, \n",
    "        scatters = ax.scatter(data[:, 0], data[:, 1], c=labels, alpha=0.5, cmap='viridis')\n",
    "        fig.colorbar(scatters)\n",
    "    elif mode == \"domain_clusters\":\n",
    "        # Paired, \n",
    "        scatters = ax.scatter(data[:, 0], data[:, 1], c=labels, alpha=0.7, cmap='Paired')\n",
    "        legends = ax.legend(*scatters.legend_elements(), loc=\"best\", title=\"Receivers\")\n",
    "        ax.add_artist(legends)\n",
    "        \n",
    "    # ax.set_xlabel(\"z[0]\")\n",
    "    # ax.set_ylabel(\"z[1]\")\n",
    "    ax.set_xlim(-90, 90)\n",
    "    ax.set_ylim(-90, 90)\n",
    "    fig.savefig(f\"../figs/{fig_name}.eps\", format=\"eps\", bbox_inches='tight', pad_inches=0, dpi=300)\n",
    "    fig.show()\n",
    "    "
   ]
  },
  {
   "cell_type": "code",
   "execution_count": null,
   "metadata": {},
   "outputs": [],
   "source": []
  },
  {
   "cell_type": "code",
   "execution_count": null,
   "metadata": {},
   "outputs": [],
   "source": [
    "import matplotlib.pyplot as plt\n",
    "from sklearn.manifold import TSNE\n",
    "\n",
    "all_feats, all_targets = [], []\n",
    "model_resumed.eval()\n",
    "with torch.no_grad():\n",
    "    if loader2 is None:\n",
    "        for data1, targets1, *_ in loader1:\n",
    "            _, feat1 = model_resumed(data1.cuda())\n",
    "            all_feats.append(feat1.cpu().numpy())\n",
    "            all_targets.append(targets1.numpy())\n",
    "\n",
    "        z = np.concatenate(all_feats, axis=0)\n",
    "        labels = np.concatenate(all_targets, axis=0)\n",
    "        z = TSNE(2, init='pca', learning_rate='auto', verbose=1).fit_transform(z)\n",
    "\n",
    "        plot_scatters(z, labels, mode=\"label_clusters\", fig_name=\"tsne_src\")\n",
    "    else:\n",
    "        # 1.1 loader1\n",
    "        for data1, targets1, *_ in loader1:\n",
    "            _, feat1 = model_resumed(data1.cuda())\n",
    "            all_feats.append(feat1.cpu().numpy())\n",
    "            all_targets.append(targets1.numpy())\n",
    "\n",
    "        z = np.concatenate(all_feats, axis=0)\n",
    "        labels = np.concatenate(all_targets, axis=0)\n",
    "        # number of samples in loader1\n",
    "        num1 = z.shape[0]  \n",
    "        # 1.2 loader2\n",
    "        for data2, targets2, *_ in loader2:\n",
    "            _, feat2 = model_resumed(data2.cuda())\n",
    "            all_feats.append(feat2.cpu().numpy())\n",
    "            all_targets.append(targets2.numpy())\n",
    "            \n",
    "        z = np.concatenate(all_feats, axis=0)\n",
    "        labels = np.concatenate(all_targets, axis=0)\n",
    "        # 2. t-sne\n",
    "        z = TSNE(2, init='pca', learning_rate='auto', verbose=1).fit_transform(z)\n",
    "        \n",
    "        # 3.1 plot label clusters of loader1 (src domain)\n",
    "        plot_scatters(z[:num1], labels[:num1], mode=\"label_clusters\", fig_name=\"tsne_src\")\n",
    "        # 3.2 plot label clusters of loader2 (tgt domain)\n",
    "        plot_scatters(z[num1:], labels[num1:], mode=\"label_clusters\", fig_name=\"tsne_tgt\")\n",
    "        # 3.3 plot domain clusters of loader1 (0) and loader2 (1)\n",
    "        domain_labels = np.concatenate([np.zeros(num1), np.ones(z.shape[0]-num1)], axis=0)\n",
    "        plot_scatters(z, domain_labels, mode=\"domain_clusters\", fig_name=\"tsne_domain\")\n",
    "        "
   ]
  },
  {
   "cell_type": "code",
   "execution_count": 54,
   "metadata": {},
   "outputs": [
    {
     "name": "stdout",
     "output_type": "stream",
     "text": [
      "(9472, 2)\n",
      "(9472,)\n"
     ]
    }
   ],
   "source": [
    "print(z.shape)\n",
    "print(labels.shape)"
   ]
  }
 ],
 "metadata": {
  "kernelspec": {
   "display_name": "Python 3.9.13 ('torch')",
   "language": "python",
   "name": "python3"
  },
  "language_info": {
   "codemirror_mode": {
    "name": "ipython",
    "version": 3
   },
   "file_extension": ".py",
   "mimetype": "text/x-python",
   "name": "python",
   "nbconvert_exporter": "python",
   "pygments_lexer": "ipython3",
   "version": "3.9.13 (main, Aug 25 2022, 23:26:10) \n[GCC 11.2.0]"
  },
  "orig_nbformat": 4,
  "vscode": {
   "interpreter": {
    "hash": "42f987de52c2bbac5643a2394ee051c303bdb2afefad0c464bc83acc181c1be0"
   }
  }
 },
 "nbformat": 4,
 "nbformat_minor": 2
}
